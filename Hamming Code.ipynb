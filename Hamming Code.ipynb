{
 "cells": [
  {
   "cell_type": "code",
   "execution_count": 1,
   "metadata": {
    "ExecuteTime": {
     "end_time": "2020-09-06T02:16:37.487536Z",
     "start_time": "2020-09-06T02:16:37.426995Z"
    }
   },
   "outputs": [],
   "source": [
    "import math\n",
    "import numpy as np"
   ]
  },
  {
   "cell_type": "markdown",
   "metadata": {
    "ExecuteTime": {
     "end_time": "2020-09-06T01:26:55.912149Z",
     "start_time": "2020-09-06T01:26:55.910255Z"
    }
   },
   "source": [
    "# Hamming Codes"
   ]
  },
  {
   "cell_type": "markdown",
   "metadata": {},
   "source": [
    "## Discussion"
   ]
  },
  {
   "cell_type": "markdown",
   "metadata": {},
   "source": [
    "For a 16 bit data structure, 11 bits are data and 5 bits are redudant error checking:\n",
    "\n",
    "|-|0*|1*|1|\n",
    "|-|-|-|-|\n",
    "|0*|0 |1 |1|\n",
    "|1* |0 |0 |1|\n",
    "|1 |0 |1 |0|\n",
    "\n",
    "\\* indicates this is a *parity bit*, a bit responsible for error checking (as opposed to a data bit)\n",
    "\n",
    "The top left most box contains the extended parity bit. We'll get to that later, but for now we'll ignore it.\n",
    "\n",
    "#### Parity Bits\n",
    "\n",
    "A parity bit is responsible for counting the number of 1's in a specified section of the block and ensuring an even count of 1's. It changes its own value, 0 or 1, to ensure the count.\n",
    "\n",
    "**Example**\n",
    "\n",
    "Let's assume a 2x4 block, with the top-left most bit being our parity bit:\n",
    "\n",
    "|?*|0|1|1|\n",
    "|-|-|-|-|\n",
    "|1|0|0|1|\n",
    "\n",
    "There are 4 1's in the data, so our parity bit would assume the value of 0:\n",
    "\n",
    "|0|0|1|1|\n",
    "|-|-|-|-|\n",
    "|1|0|0|1|\n",
    "\n",
    "count of 1's: 4."
   ]
  },
  {
   "cell_type": "markdown",
   "metadata": {},
   "source": [
    "\n",
    "#### Error checking on a 16 bit block\n",
    "\n",
    "Back to our 16 bit block, we have 4 active parity bits and then an *extended parity* bit in the top-left most block. For now, let's focus on the 4 primary parity bits:\n",
    "\n",
    "|-|0*|1*|-|\n",
    "|- |- |- |-|\n",
    "|0*|- |- |-|\n",
    "|1* |- |- |-|\n",
    "|- |- |- |-|\n",
    "\n",
    "*For this tutorial, rows and columns are 0-index based. So the left most column is column 0 and the rightmost column is column 3.*\n",
    "\n",
    "##### Column Parities\n",
    "\n",
    "The first column parity bit, in row 0 col 1, Checks all *odd columns* (0-indexed):\n",
    "\n",
    "|-|X*|-|\\*|\n",
    "|-|- |-|- |\n",
    "|-|\\*|-|\\*|\n",
    "|-|\\*|-|\\*|\n",
    "|-|\\*|-|\\*|\n",
    "\n",
    "The second column parity bit looks to the right half of cols:\n",
    "\n",
    "|-|- |X*|\\*|\n",
    "|-|- |-|-|\n",
    "|-|- |\\*|\\*|\n",
    "|-|- |\\*|\\*|\n",
    "|-|- |\\*|\\*|\n",
    "\n",
    "**Example**\n",
    "\n",
    "|-|?\\*|?\\*|1|\n",
    "|-|-|-|-|\n",
    "|1|0 |1 |1|\n",
    "|1|0 |0 |1|\n",
    "|1|0 |1 |0|\n",
    "\n",
    "Let's start with the first column parity bit, which checks columns 1 & 3:\n",
    "- 1's in col 1: 0\n",
    "- 1's in col 3: 3\n",
    "- total: 3\n",
    "- **parity bit: 1**\n",
    "\n",
    "The second parity bit checks columns 2 & 3\n",
    "- 1's in col 2: 2\n",
    "- 1's in col 3: 3\n",
    "- total: 5\n",
    "- **parity bit: 1**\n",
    "\n",
    "**Solution**\n",
    "\n",
    "|-|1*|1*|1|\n",
    "|-|-|-|-|\n",
    "|1|0|1|1|\n",
    "|1|0|0|1|\n",
    "|1|0|1|0|"
   ]
  },
  {
   "cell_type": "markdown",
   "metadata": {},
   "source": [
    "##### Row Parities\n",
    "\n",
    "Similar to column parities, the first row parity (in the second row, we're skipping the first box) reviews all *odd index rows* while the second row parity reviews the bottom half of rows:\n",
    "\n",
    "odd row parity\n",
    "\n",
    "|-  |- |- |- |\n",
    "|-  |- |- |- |\n",
    "|?\\*|\\*|\\*|\\*|\n",
    "|-  |- |- |- |\n",
    "|\\* |\\*|\\*|\\*|\n",
    "\n",
    "bottom half parity\n",
    "\n",
    "|-|-|-|-|\n",
    "|-|- |-|-|\n",
    "|-|-|-|-|\n",
    "|?*|\\*|\\*|\\*|\n",
    "|\\*|\\*|\\*|\\*|\n",
    "\n",
    "\n",
    "**Example**\n",
    "\n",
    "|-|0|1|1|\n",
    "|-|-|-|-|\n",
    "|?\\*|0 |1 |1|\n",
    "|?\\*|0 |0 |1|\n",
    "|1|0 |1 |0|\n",
    "\n",
    "Starting with the odd-row parity, checking rows 1 & 3:\n",
    "- 1's in row 1: 2\n",
    "- 1's in row 3: 2\n",
    "- total: 4\n",
    "- **parity bit: 0**\n",
    "\n",
    "The second half row parity checks rows 2 & 3:\n",
    "- 1's in row 2: 1\n",
    "- 1's in row 3: 2\n",
    "- total: 3\n",
    "**parity bit: 1**\n",
    "\n",
    "**Solution**\n",
    "\n",
    "|-|0|1|1|\n",
    "|-|-|-|-|\n",
    "|0|0|1|1|\n",
    "|1|0|0|1|\n",
    "|1|0|1|0|"
   ]
  },
  {
   "cell_type": "markdown",
   "metadata": {},
   "source": [
    "## Implementation"
   ]
  },
  {
   "cell_type": "code",
   "execution_count": 2,
   "metadata": {
    "ExecuteTime": {
     "end_time": "2020-09-06T02:16:37.496681Z",
     "start_time": "2020-09-06T02:16:37.490477Z"
    },
    "code_folding": [
     0
    ]
   },
   "outputs": [],
   "source": [
    "def create_data_block(data):\n",
    "    '''\n",
    "    Given a 4x4 np array block, insert 1x11 data into data positions\n",
    "    according to hamming code designations.\n",
    "    '''\n",
    "    block = np.zeros((4,4))\n",
    "    data  = np.array(data)\n",
    "    \n",
    "    # ensure data is a single row with len 11\n",
    "    if data.shape != (11,):\n",
    "        raise Exception(\"Data must be a 1 x 11 array of 0's and 1's\")\n",
    "    # ensure data is all 0's and 1's:\n",
    "    for item in data:\n",
    "        if item not in (0, 1):\n",
    "            raise Exception(\"Data must be a 1 x 11 array of 0's and 1's\")\n",
    "    \n",
    "    # place data into block:\n",
    "    block[0, -1] = data[0]\n",
    "    block[1, 1:] = data[1:4]\n",
    "    block[2, 1:] = data[4:7]\n",
    "    block[3, :]  = data[7:]\n",
    "    \n",
    "    return block"
   ]
  },
  {
   "cell_type": "code",
   "execution_count": 3,
   "metadata": {
    "ExecuteTime": {
     "end_time": "2020-09-06T02:16:37.510900Z",
     "start_time": "2020-09-06T02:16:37.498992Z"
    },
    "code_folding": [
     0,
     5,
     11,
     16,
     22,
     27,
     32,
     37
    ]
   },
   "outputs": [],
   "source": [
    "def check_col_half_parity(block):\n",
    "    n_cols = block.shape[1]\n",
    "    count_ones = block[:, n_cols//2:].sum()\n",
    "    return count_ones%2 == 0\n",
    "\n",
    "def check_col_odd_parity(block):\n",
    "    n_cols = block.shape[1]\n",
    "    odd_col_idxs = np.arange(1, n_cols, 2)\n",
    "    count_ones = block[:, odd_col_idxs].sum()\n",
    "    return count_ones%2 == 0\n",
    "\n",
    "def check_row_half_parity(block):\n",
    "    n_rows = block.shape[0]\n",
    "    count_ones = block[n_rows//2:, :].sum()\n",
    "    return count_ones%2 == 0\n",
    "\n",
    "def check_row_odd_parity(block):\n",
    "    n_rows = block.shape[0]\n",
    "    odd_row_idxs = np.arange(1, n_rows, 2)\n",
    "    count_ones = block[odd_row_idxs, :].sum()\n",
    "    return count_ones%2 == 0\n",
    "    \n",
    "def set_col_half_parity(block):\n",
    "    parity_value =  int(not check_col_half_parity(block))\n",
    "    block[0, 2] = parity_value\n",
    "    return block\n",
    "\n",
    "def set_col_odd_parity(block):\n",
    "    parity_value = int(not check_col_odd_parity(block))\n",
    "    block[0, 1] = parity_value\n",
    "    return block\n",
    "\n",
    "def set_row_half_parity(block):\n",
    "    parity_value = int(not check_row_half_parity(block))\n",
    "    block[2, 0] = parity_value\n",
    "    return block\n",
    "\n",
    "def set_row_odd_parity(block):\n",
    "    parity_value = int(not check_row_odd_parity(block))\n",
    "    block[1, 0] = parity_value\n",
    "    return block\n"
   ]
  },
  {
   "cell_type": "code",
   "execution_count": null,
   "metadata": {
    "code_folding": [
     0,
     7
    ]
   },
   "outputs": [],
   "source": [
    "def set_parities(block):\n",
    "    set_col_half_parity(block)\n",
    "    set_row_half_parity(block)\n",
    "    set_col_odd_parity(block)\n",
    "    set_row_odd_parity(block)\n",
    "    return block\n",
    "\n",
    "def check_parities(block, verbose=True):\n",
    "    passed = True\n",
    "    if not check_col_odd_parity(block):\n",
    "        verbose and print('Column Odd Parity Violated')\n",
    "        passed = False\n",
    "    if not check_col_half_parity(block):\n",
    "        verbose and print('Column Half Parity Violated')\n",
    "        passed = False\n",
    "    if not check_row_odd_parity(block):\n",
    "        verbose and print('Row Odd Parity Violated')\n",
    "        passed = False\n",
    "    if not check_row_half_parity(block):\n",
    "        verbose and print('Row Half Parity Violated')\n",
    "        passed = False\n",
    "    return passed"
   ]
  },
  {
   "cell_type": "markdown",
   "metadata": {
    "heading_collapsed": true
   },
   "source": [
    "#### Example Usage"
   ]
  },
  {
   "cell_type": "code",
   "execution_count": 4,
   "metadata": {
    "ExecuteTime": {
     "end_time": "2020-09-06T02:16:37.525572Z",
     "start_time": "2020-09-06T02:16:37.514411Z"
    },
    "hidden": true
   },
   "outputs": [
    {
     "name": "stdout",
     "output_type": "stream",
     "text": [
      "[[0. 0. 0. 1.]\n",
      " [0. 0. 1. 0.]\n",
      " [0. 1. 0. 0.]\n",
      " [0. 1. 0. 0.]]\n",
      "Column Odd Parity Violated\n",
      "----\n",
      "[[0. 1. 0. 1.]\n",
      " [0. 0. 1. 0.]\n",
      " [0. 1. 0. 0.]\n",
      " [0. 1. 0. 0.]]\n"
     ]
    },
    {
     "data": {
      "text/plain": [
       "'Errors detected: False'"
      ]
     },
     "execution_count": 4,
     "metadata": {},
     "output_type": "execute_result"
    }
   ],
   "source": [
    "# Create Random data\n",
    "data = np.around(np.random.rand(11))\n",
    "# Store it in 4x4 data block\n",
    "a = create_data_block(data)\n",
    "print(a)\n",
    "# Unless really lucky, our data block should have some parity issues\n",
    "check_parities(a)\n",
    "# Set parity bits\n",
    "set_parities(a)\n",
    "print('----')\n",
    "# Now check for parity errors. None should be found\n",
    "print(a)\n",
    "f'Errors detected: {not check_parities(a)}'"
   ]
  },
  {
   "cell_type": "markdown",
   "metadata": {
    "heading_collapsed": true
   },
   "source": [
    "#### Test\n",
    "\n",
    "Let's test our parity engine on 1,000 cases. \n",
    "\n",
    "We'll create a random data block, set the parity bits and validate. We'll then flip a random data bit and check that parity has been broken."
   ]
  },
  {
   "cell_type": "code",
   "execution_count": 5,
   "metadata": {
    "ExecuteTime": {
     "end_time": "2020-09-06T02:16:37.533814Z",
     "start_time": "2020-09-06T02:16:37.528127Z"
    },
    "code_folding": [
     0
    ],
    "hidden": true
   },
   "outputs": [],
   "source": [
    "def set_random_error(block):\n",
    "    max_n = min(block.shape)\n",
    "    rand_idx = np.random.randint(max_n-1, size=2)\n",
    "    \n",
    "    # Ignore the top left bit - we'll get to that one soon\n",
    "    if rand_idx[0] == 0 and rand_idx[1] == 0:\n",
    "        rand_idx = np.array([1,1])\n",
    "\n",
    "    #flip value\n",
    "    block[rand_idx[0], rand_idx[1]] = int(not block[rand_idx[0], rand_idx[1]])\n",
    "    return block"
   ]
  },
  {
   "cell_type": "code",
   "execution_count": 18,
   "metadata": {
    "ExecuteTime": {
     "end_time": "2020-09-06T16:21:54.434649Z",
     "start_time": "2020-09-06T16:21:53.602843Z"
    },
    "hidden": true
   },
   "outputs": [
    {
     "name": "stdout",
     "output_type": "stream",
     "text": [
      "100% trials succeeded\n"
     ]
    }
   ],
   "source": [
    "trials = 100\n",
    "trial_successes = 0\n",
    "for _ in range(trials):\n",
    "    block = create_data_block(np.around(np.random.rand(11)))\n",
    "    set_parities(block)\n",
    "    assert check_parities(block, verbose=False)\n",
    "    set_random_error(block)\n",
    "    assert not check_parities(block, verbose=False)\n",
    "    trial_successes += 1\n",
    "\n",
    "print(f'{trial_successes*100/trials:.0f}% trials succeeded')"
   ]
  }
 ],
 "metadata": {
  "kernelspec": {
   "display_name": "Python 3",
   "language": "python",
   "name": "python3"
  },
  "language_info": {
   "codemirror_mode": {
    "name": "ipython",
    "version": 3
   },
   "file_extension": ".py",
   "mimetype": "text/x-python",
   "name": "python",
   "nbconvert_exporter": "python",
   "pygments_lexer": "ipython3",
   "version": "3.6.7"
  },
  "toc": {
   "base_numbering": 1,
   "nav_menu": {},
   "number_sections": true,
   "sideBar": true,
   "skip_h1_title": false,
   "title_cell": "Table of Contents",
   "title_sidebar": "Contents",
   "toc_cell": false,
   "toc_position": {},
   "toc_section_display": true,
   "toc_window_display": false
  },
  "varInspector": {
   "cols": {
    "lenName": 16,
    "lenType": 16,
    "lenVar": 40
   },
   "kernels_config": {
    "python": {
     "delete_cmd_postfix": "",
     "delete_cmd_prefix": "del ",
     "library": "var_list.py",
     "varRefreshCmd": "print(var_dic_list())"
    },
    "r": {
     "delete_cmd_postfix": ") ",
     "delete_cmd_prefix": "rm(",
     "library": "var_list.r",
     "varRefreshCmd": "cat(var_dic_list()) "
    }
   },
   "types_to_exclude": [
    "module",
    "function",
    "builtin_function_or_method",
    "instance",
    "_Feature"
   ],
   "window_display": false
  }
 },
 "nbformat": 4,
 "nbformat_minor": 2
}
