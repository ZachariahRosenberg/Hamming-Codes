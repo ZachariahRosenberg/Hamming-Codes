{
 "cells": [
  {
   "cell_type": "code",
   "execution_count": null,
   "metadata": {
    "ExecuteTime": {
     "end_time": "2020-09-06T00:32:32.242160Z",
     "start_time": "2020-09-06T00:32:32.239687Z"
    }
   },
   "outputs": [],
   "source": [
    "import math\n",
    "import numpy as np"
   ]
  },
  {
   "cell_type": "markdown",
   "metadata": {
    "ExecuteTime": {
     "end_time": "2020-09-06T01:26:55.912149Z",
     "start_time": "2020-09-06T01:26:55.910255Z"
    }
   },
   "source": [
    "# Hamming Codes"
   ]
  },
  {
   "cell_type": "markdown",
   "metadata": {
    "heading_collapsed": true
   },
   "source": [
    "## Discussion"
   ]
  },
  {
   "cell_type": "markdown",
   "metadata": {
    "hidden": true
   },
   "source": [
    "For a 16 bit data structure, 11 bits are data and 5 bits are redudant error checking:\n",
    "\n",
    "|-|0*|1*|1|\n",
    "|-|-|-|-|\n",
    "|0*|0 |1 |1|\n",
    "|1* |0 |0 |1|\n",
    "|1 |0 |1 |0|\n",
    "\n",
    "\\* indicates this is a *parity bit*, a bit responsible for error checking (as opposed to a data bit)\n",
    "\n",
    "The top left most box contains the extended parity bit. We'll get to that later, but for now we'll ignore it.\n",
    "\n",
    "#### Parity Bits\n",
    "\n",
    "A parity bit is responsible for counting the number of 1's in a specified section of the block and ensuring an even count of 1's. It changes its own value, 0 or 1, to ensure the count.\n",
    "\n",
    "**Example**\n",
    "\n",
    "Let's assume a 2x4 block, with the top-left most bit being our parity bit:\n",
    "\n",
    "|?*|0|1|1|\n",
    "|-|-|-|-|\n",
    "|1|0|0|1|\n",
    "\n",
    "There are 4 1's in the data, so our parity bit would assume the value of 0:\n",
    "\n",
    "|0|0|1|1|\n",
    "|-|-|-|-|\n",
    "|1|0|0|1|\n",
    "\n",
    "count of 1's: 4."
   ]
  },
  {
   "cell_type": "markdown",
   "metadata": {
    "hidden": true
   },
   "source": [
    "\n",
    "#### Error checking on a 16 bit block\n",
    "\n",
    "Back to our 16 bit block, we have 4 active parity bits and then an *extended parity* bit in the top-left most block. For now, let's focus on the 4 primary parity bits:\n",
    "\n",
    "|-|0*|1*|-|\n",
    "|- |- |- |-|\n",
    "|0*|- |- |-|\n",
    "|1* |- |- |-|\n",
    "|- |- |- |-|\n",
    "\n",
    "*For this tutorial, rows and columns are 0-index based. So the left most column is column 0 and the rightmost column is column 3.*\n",
    "\n",
    "##### Column Parities\n",
    "\n",
    "The first column parity bit, in row 0 col 1, Checks all *odd columns* (0-indexed):\n",
    "\n",
    "|-|X*|-|\\*|\n",
    "|-|- |-|- |\n",
    "|-|\\*|-|\\*|\n",
    "|-|\\*|-|\\*|\n",
    "|-|\\*|-|\\*|\n",
    "\n",
    "The second column parity bit looks to the right half of cols:\n",
    "\n",
    "|-|- |X*|\\*|\n",
    "|-|- |-|-|\n",
    "|-|- |\\*|\\*|\n",
    "|-|- |\\*|\\*|\n",
    "|-|- |\\*|\\*|\n",
    "\n",
    "**Example**\n",
    "\n",
    "|-|?\\*|?\\*|1|\n",
    "|-|-|-|-|\n",
    "|1|0 |1 |1|\n",
    "|1|0 |0 |1|\n",
    "|1|0 |1 |0|\n",
    "\n",
    "Let's start with the first column parity bit, which checks columns 1 & 3:\n",
    "- 1's in col 1: 0\n",
    "- 1's in col 3: 3\n",
    "- total: 3\n",
    "- **parity bit: 1**\n",
    "\n",
    "The second parity bit checks columns 2 & 3\n",
    "- 1's in col 2: 2\n",
    "- 1's in col 3: 3\n",
    "- total: 5\n",
    "- **parity bit: 1**\n",
    "\n",
    "**Solution**\n",
    "\n",
    "|-|1*|1*|1|\n",
    "|-|-|-|-|\n",
    "|1|0|1|1|\n",
    "|1|0|0|1|\n",
    "|1|0|1|0|"
   ]
  },
  {
   "cell_type": "markdown",
   "metadata": {
    "hidden": true
   },
   "source": [
    "##### Row Parities\n",
    "\n",
    "Similar to column parities, the first row parity (in the second row, we're skipping the first box) reviews all *odd index rows* while the second row parity reviews the bottom half of rows:\n",
    "\n",
    "odd row parity\n",
    "\n",
    "|-  |- |- |- |\n",
    "|-  |- |- |- |\n",
    "|?\\*|\\*|\\*|\\*|\n",
    "|-  |- |- |- |\n",
    "|\\* |\\*|\\*|\\*|\n",
    "\n",
    "bottom half parity\n",
    "\n",
    "|-|-|-|-|\n",
    "|-|- |-|-|\n",
    "|-|-|-|-|\n",
    "|?*|\\*|\\*|\\*|\n",
    "|\\*|\\*|\\*|\\*|\n",
    "\n",
    "\n",
    "**Example**\n",
    "\n",
    "|-|0|1|1|\n",
    "|-|-|-|-|\n",
    "|?\\*|0 |1 |1|\n",
    "|?\\*|0 |0 |1|\n",
    "|1|0 |1 |0|\n",
    "\n",
    "Starting with the odd-row parity, checking rows 1 & 3:\n",
    "- 1's in row 1: 2\n",
    "- 1's in row 3: 2\n",
    "- total: 4\n",
    "- **parity bit: 0**\n",
    "\n",
    "The second half row parity checks rows 2 & 3:\n",
    "- 1's in row 2: 1\n",
    "- 1's in row 3: 2\n",
    "- total: 3\n",
    "**parity bit: 1**\n",
    "\n",
    "**Solution**\n",
    "\n",
    "|-|0|1|1|\n",
    "|-|-|-|-|\n",
    "|0|0|1|1|\n",
    "|1|0|0|1|\n",
    "|1|0|1|0|"
   ]
  },
  {
   "cell_type": "markdown",
   "metadata": {
    "heading_collapsed": true
   },
   "source": [
    "## Implementation"
   ]
  },
  {
   "cell_type": "code",
   "execution_count": null,
   "metadata": {
    "ExecuteTime": {
     "end_time": "2020-09-06T00:22:12.079332Z",
     "start_time": "2020-09-06T00:22:12.073788Z"
    },
    "code_folding": [
     0
    ],
    "hidden": true
   },
   "outputs": [],
   "source": [
    "def create_data_block(data):\n",
    "    '''\n",
    "    Given a 4x4 np array block, insert 1x11 data into data positions\n",
    "    according to hamming code designations.\n",
    "    '''\n",
    "    block = np.zeros((4,4))\n",
    "    data  = np.array(data)\n",
    "    \n",
    "    # ensure data is a single row with len 11\n",
    "    if data.shape != (11,):\n",
    "        raise Exception(\"Data must be a 1 x 11 array of 0's and 1's\")\n",
    "    # ensure data is all 0's and 1's:\n",
    "    for item in data:\n",
    "        if item not in (0, 1):\n",
    "            raise Exception(\"Data must be a 1 x 11 array of 0's and 1's\")\n",
    "    \n",
    "    # place data into block:\n",
    "    block[0, -1] = data[0]\n",
    "    block[1, 1:] = data[1:4]\n",
    "    block[2, 1:] = data[4:7]\n",
    "    block[3, :]  = data[7:]\n",
    "    \n",
    "    return block"
   ]
  },
  {
   "cell_type": "code",
   "execution_count": null,
   "metadata": {
    "ExecuteTime": {
     "end_time": "2020-09-06T02:10:46.787315Z",
     "start_time": "2020-09-06T02:10:46.765616Z"
    },
    "code_folding": [
     0,
     5,
     11,
     16,
     22,
     27,
     32,
     37,
     42
    ],
    "hidden": true
   },
   "outputs": [],
   "source": [
    "def check_col_half_parity(block):\n",
    "    n_cols = block.shape[1]\n",
    "    count_ones = block[:, n_cols//2:].sum()\n",
    "    return count_ones%2 == 0\n",
    "\n",
    "def check_col_odd_parity(block):\n",
    "    n_cols = block.shape[1]\n",
    "    odd_col_idxs = np.arange(1, n_cols, 2)\n",
    "    count_ones = block[:, odd_col_idxs].sum()\n",
    "    return count_ones%2 == 0\n",
    "\n",
    "def check_row_half_parity(block):\n",
    "    n_rows = block.shape[0]\n",
    "    count_ones = block[n_rows//2:, :].sum()\n",
    "    return count_ones%2 == 0\n",
    "\n",
    "def check_row_odd_parity(block):\n",
    "    n_rows = block.shape[0]\n",
    "    odd_row_idxs = np.arange(1, n_rows, 2)\n",
    "    count_ones = block[odd_row_idxs, :].sum()\n",
    "    return count_ones%2 == 0\n",
    "    \n",
    "def set_col_half_parity(block):\n",
    "    parity_value =  int(not check_col_half_parity(block))\n",
    "    block[0, 2] = parity_value\n",
    "    return block\n",
    "\n",
    "def set_col_odd_parity(block):\n",
    "    parity_value = int(not check_col_odd_parity(block))\n",
    "    block[0, 1] = parity_value\n",
    "    return block\n",
    "\n",
    "def set_row_half_parity(block):\n",
    "    parity_value = int(not check_row_half_parity(block))\n",
    "    block[2, 0] = parity_value\n",
    "    return block\n",
    "\n",
    "def set_row_odd_parity(block):\n",
    "    parity_value = int(not check_row_odd_parity(block))\n",
    "    block[1, 0] = parity_value\n",
    "    return block\n",
    "\n",
    "def set_parities(block):\n",
    "    set_col_half_parity(block)\n",
    "    set_row_half_parity(block)\n",
    "    set_col_odd_parity(block)\n",
    "    set_row_odd_parity(block)\n",
    "    return block\n",
    "\n",
    "def check_parities(block, verbose=True):\n",
    "    passed = True\n",
    "    if not check_col_odd_parity(block):\n",
    "        verbose and print('Column Odd Parity Violated')\n",
    "        passed = False\n",
    "    if not check_col_half_parity(block):\n",
    "        verbose and print('Column Half Parity Violated')\n",
    "        passed = False\n",
    "    if not check_row_odd_parity(block):\n",
    "        verbose and print('Row Odd Parity Violated')\n",
    "        passed = False\n",
    "    if not check_row_half_parity(block):\n",
    "        verbose and print('Row Half Parity Violated')\n",
    "        passed = False\n",
    "    return passed"
   ]
  },
  {
   "cell_type": "markdown",
   "metadata": {
    "hidden": true
   },
   "source": [
    "#### Example Usage"
   ]
  },
  {
   "cell_type": "code",
   "execution_count": null,
   "metadata": {
    "ExecuteTime": {
     "end_time": "2020-09-06T02:15:38.666730Z",
     "start_time": "2020-09-06T02:15:38.658770Z"
    },
    "hidden": true
   },
   "outputs": [],
   "source": [
    "# Create Random data\n",
    "data = np.around(np.random.rand(11))\n",
    "# Store it in 4x4 data block\n",
    "a = create_data_block(data)\n",
    "print(a)\n",
    "# Unless really lucky, our data block should have some parity issues\n",
    "check_parities(a)\n",
    "# Set parity bits\n",
    "set_parities(a)\n",
    "print('----')\n",
    "# Now check for parity errors. None should be found\n",
    "print(a)\n",
    "f'Errors detected: {not check_parities(a)}'"
   ]
  },
  {
   "cell_type": "markdown",
   "metadata": {
    "hidden": true
   },
   "source": [
    "#### Test\n",
    "\n",
    "Let's test our parity engine on 1,000 cases. We'll create a random data block, set the parity bits and validate. We'll then flip a random data bit and check that parity has been broken."
   ]
  },
  {
   "cell_type": "code",
   "execution_count": null,
   "metadata": {
    "ExecuteTime": {
     "end_time": "2020-09-06T02:10:52.072158Z",
     "start_time": "2020-09-06T02:10:52.067519Z"
    },
    "code_folding": [
     0
    ],
    "hidden": true
   },
   "outputs": [],
   "source": [
    "def set_random_error(block):\n",
    "    max_n = min(block.shape)\n",
    "    \n",
    "    rand_idx = np.random.randint(max_n-1, size=2)\n",
    "    if rand_idx[0] == 0 and rand_idx[1] == 0:\n",
    "        rand_idx = np.array([1,1])\n",
    "    #flip value\n",
    "    block[rand_idx[0], rand_idx[1]] = int(not block[rand_idx[0], rand_idx[1]])\n",
    "    return block"
   ]
  },
  {
   "cell_type": "code",
   "execution_count": null,
   "metadata": {
    "ExecuteTime": {
     "end_time": "2020-09-06T02:12:03.795482Z",
     "start_time": "2020-09-06T02:12:03.699061Z"
    },
    "hidden": true
   },
   "outputs": [],
   "source": [
    "for _ in range(1000):\n",
    "    block = create_data_block(np.around(np.random.rand(11)))\n",
    "    set_parities(block)\n",
    "    temp_block = np.copy(block)\n",
    "    assert check_parities(block, verbose=False)\n",
    "    set_random_error(block)\n",
    "    assert not check_parities(block, verbose=False)\n",
    "\n",
    "print('All cases detected!')"
   ]
  },
  {
   "cell_type": "code",
   "execution_count": null,
   "metadata": {
    "hidden": true
   },
   "outputs": [],
   "source": []
  }
 ],
 "metadata": {
  "kernelspec": {
   "display_name": "Python 3",
   "language": "python",
   "name": "python3"
  },
  "language_info": {
   "codemirror_mode": {
    "name": "ipython",
    "version": 3
   },
   "file_extension": ".py",
   "mimetype": "text/x-python",
   "name": "python",
   "nbconvert_exporter": "python",
   "pygments_lexer": "ipython3",
   "version": "3.7.3"
  }
 },
 "nbformat": 4,
 "nbformat_minor": 2
}
